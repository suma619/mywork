{
 "cells": [
  {
   "cell_type": "code",
   "execution_count": null,
   "metadata": {},
   "outputs": [],
   "source": [
    "#final\n",
    "import pandas as pd\n",
    "file_name=\"data/_Aug2-107561.xlsx\"\n",
    "dfs = pd.read_excel(file_name, sheet_name=\"Sheet1\")\n",
    "\n",
    "nan_rows = dfs[dfs['tel_Other'].isnull()]\n",
    "nan_rows.to_excel(\"data/no_nos.xlsx\")\n",
    "\n",
    "df3 = pd.merge(dfs, nan_rows, how='outer', indicator=True).query('_merge==\"left_only\"').drop('_merge',1)\n",
    "\n",
    "\n",
    "duplicateRowsDF = df3[df3.duplicated(['tel_Other'])]\n",
    "duplicateRowsDF.to_excel(\"data/duplicate.xlsx\")\n",
    "\n",
    "df3 = pd.merge(df3, duplicateRowsDF, how='outer', indicator=True).query('_merge==\"left_only\"').drop('_merge',1)\n",
    "k_uni=df3.tel_Other.str.split(';').str[1]\n",
    "\n",
    "df3['alt']=k_uni\n",
    "\n",
    "df3['tel_Other'] = df3['tel_Other'].str.split(';').str[0]\n",
    "\n",
    "#remove from - fro tel_no\n",
    "df3['tel_Other'] = df3['tel_Other'].str.split('-').str[1]\n",
    "#remove from -0- from alt\n",
    "df3['alt'] = df3['alt'].str.split('-0-').str[1]\n",
    "\n",
    "#df3.to_csv(\"data/unique.csv\")\n",
    "#convert csv to xlsx\n",
    "writer = pd.ExcelWriter('data/unique.xlsx')\n",
    "df3.to_excel(writer, index = False)\n",
    "writer.save()\n",
    "\n",
    "#alteranate number for duplicate\n",
    "df_n=pd.read_excel(\"data/duplicate.xlsx\",sheet_name=\"Sheet1\")\n",
    "k=df_n.tel_Other.str.split(';').str[1]\n",
    "\n",
    "df_n['alt']=k\n",
    "df_n['tel_Other'] = df_n['tel_Other'].str.split(';').str[0]\n",
    "#remove from - fro tel_no\n",
    "df_n['tel_Other'] = df_n['tel_Other'].str.split('-').str[1]\n",
    "#remove from -0- from alt\n",
    "df_n['alt'] = df_n['alt'].str.split('-0-').str[1]\n",
    "\n",
    "df_n.to_excel(\"data/duplicate.xlsx\")\n",
    "\n",
    "#alteranate number for unique\n",
    "#df_uni=pd.read_excel(\"data/unique.xlsx\",sheet_name=\"Sheet1\")\n",
    "#k_uni=df_uni.tel_Other.str.split(';').str[1]\n",
    "\n",
    "#df_uni['alt']=k_uni\n",
    "#df_uni['tel_Other'] = df_uni['tel_Other'].str.split(';').str[0]\n",
    "#writer_uni = pd.ExcelWriter('data/unique.xlsx')\n",
    "#df_uni.to_excel(writer_uni, index = False)\n",
    "#writer.save()\n"
   ]
  }
 ],
 "metadata": {
  "kernelspec": {
   "display_name": "Python 3",
   "language": "python",
   "name": "python3"
  },
  "language_info": {
   "codemirror_mode": {
    "name": "ipython",
    "version": 3
   },
   "file_extension": ".py",
   "mimetype": "text/x-python",
   "name": "python",
   "nbconvert_exporter": "python",
   "pygments_lexer": "ipython3",
   "version": "3.5.2"
  }
 },
 "nbformat": 4,
 "nbformat_minor": 2
}
