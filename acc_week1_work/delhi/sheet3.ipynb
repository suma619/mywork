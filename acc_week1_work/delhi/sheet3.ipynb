{
 "cells": [
  {
   "cell_type": "code",
   "execution_count": 2,
   "metadata": {},
   "outputs": [],
   "source": [
    "import pandas as pd\n",
    "import getpass\n",
    "from datetime import date\n",
    "import numpy as np\n",
    "file=\"Marketing-Sales.xlsx\"\n",
    "file_name=\"data/Marketing-Sales.xlsx\"\n",
    "dfs = pd.read_excel(file_name, sheet_name=\"Sheet3\")"
   ]
  },
  {
   "cell_type": "code",
   "execution_count": 3,
   "metadata": {},
   "outputs": [],
   "source": [
    "df1=dfs"
   ]
  },
  {
   "cell_type": "code",
   "execution_count": 4,
   "metadata": {},
   "outputs": [],
   "source": [
    "def sort_exp_job(sal):\n",
    "    #job=str(job).strip()\n",
    "    if str(sal)==\"NaN\" or str(sal)==\"nan\":\n",
    "        return 0\n",
    "    else:\n",
    "        \n",
    "        sal=int(sal)\n",
    "        #print (type(sal))\n",
    "        return round(sal*0.00001,2)\n",
    "    \n",
    "def sort_final_month(mon):\n",
    "    mon=str(mon)\n",
    "    if len(mon)==1 or len(mon)==2:\n",
    "        return round(int(mon)/12,2)\n",
    "    else:\n",
    "        if mon==\"Nan\" or mon==\"nan\":\n",
    "            return mon\n",
    "        else:\n",
    "            mon.split(' ')\n",
    "            \n",
    "            mon=int(mon[0])\n",
    "            return round(mon/12,2)\n",
    "\n",
    "import numpy as np\n",
    "def check_len(mob):\n",
    "    mob=str(mob)\n",
    "    if len(mob)==10:\n",
    "        return mob\n",
    "    else:\n",
    "        return np.nan"
   ]
  },
  {
   "cell_type": "code",
   "execution_count": 5,
   "metadata": {},
   "outputs": [],
   "source": [
    "df1['ctc'] = df1['ctc'].str.split(' ').str[0]\n",
    "df1[\"ctc\"]= df1[\"ctc\"].replace(\",\",'',regex=True) \n",
    "df1['ctc']=df1['ctc'].apply(sort_exp_job)"
   ]
  },
  {
   "cell_type": "code",
   "execution_count": 6,
   "metadata": {},
   "outputs": [],
   "source": [
    "df1['experience']=df1['experience'].apply(sort_final_month)"
   ]
  },
  {
   "cell_type": "code",
   "execution_count": 7,
   "metadata": {},
   "outputs": [],
   "source": [
    "df1['phone']=df1['phone'].str.split('-').str[1]"
   ]
  },
  {
   "cell_type": "code",
   "execution_count": 8,
   "metadata": {},
   "outputs": [],
   "source": [
    "df1['phone']=df1['phone'].apply(check_len)"
   ]
  },
  {
   "cell_type": "code",
   "execution_count": 9,
   "metadata": {},
   "outputs": [],
   "source": [
    "df1['phone2']=df1['phone2'].str.replace(\"91-\",'',regex=True) "
   ]
  },
  {
   "cell_type": "code",
   "execution_count": 10,
   "metadata": {},
   "outputs": [],
   "source": [
    "df1['phone2']=df1['phone2'].str.split('-').str[1]"
   ]
  },
  {
   "cell_type": "code",
   "execution_count": 11,
   "metadata": {},
   "outputs": [],
   "source": [
    "df1['phone2']=df1['phone2'].apply(check_len)"
   ]
  },
  {
   "cell_type": "code",
   "execution_count": 12,
   "metadata": {},
   "outputs": [],
   "source": [
    "df1['filename']=file\n",
    "\n",
    "\n",
    "today = date.today()\n",
    "\n",
    "user_name=getpass.getuser()\n",
    "\n",
    "created_by=\"Sumesh Shetty\"\n",
    "creation_date=\"2019-11-19\"\n",
    "\n",
    "df1['creation_date']=creation_date\n",
    "df1['created_by']=created_by\n",
    "\n",
    "df1['modified_by']=user_name\n",
    "df1['modified_date']=today \n",
    "df1.to_excel(\"processed/\"+file,sheet_name=\"Sheet3\",index=False)"
   ]
  },
  {
   "cell_type": "code",
   "execution_count": null,
   "metadata": {},
   "outputs": [],
   "source": []
  }
 ],
 "metadata": {
  "kernelspec": {
   "display_name": "Python 3",
   "language": "python",
   "name": "python3"
  },
  "language_info": {
   "codemirror_mode": {
    "name": "ipython",
    "version": 3
   },
   "file_extension": ".py",
   "mimetype": "text/x-python",
   "name": "python",
   "nbconvert_exporter": "python",
   "pygments_lexer": "ipython3",
   "version": "3.5.2"
  }
 },
 "nbformat": 4,
 "nbformat_minor": 2
}
