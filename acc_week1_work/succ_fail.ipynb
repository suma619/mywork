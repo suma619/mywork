{
 "cells": [
  {
   "cell_type": "code",
   "execution_count": 116,
   "metadata": {},
   "outputs": [],
   "source": []
  },
  {
   "cell_type": "code",
   "execution_count": 5,
   "metadata": {},
   "outputs": [
    {
     "name": "stdout",
     "output_type": "stream",
     "text": [
      "file_name  Sucess  Failure \n",
      "access_log 303 303\n"
     ]
    }
   ],
   "source": [
    "file=\"C:/Users/suma/Desktop/work/logs/access_log\"\n",
    "path=\"C:/Users/suma/Desktop/work/\"\n",
    "import os\n",
    "name=os.path.basename(\"C:/Users/suma/Desktop/work/access_log\")\n",
    "sucess_count=0\n",
    "failure_count=0\n",
    "fh=open(file,\"r\")\n",
    "for i in fh:\n",
    "    #analyze(i)\n",
    "    data=''.join(i)    \n",
    "    ex=data[data.index(\"HTTP\"):data.index('\\\" \\\"')+1]   \n",
    "    ex_2=ex[ex.index('\\\" ')+1:ex.index(' \\\"')+1]\n",
    "    code=ex_2[0:4]\n",
    " \n",
    "    code=int(code)\n",
    "    \n",
    "    if(code==200):\n",
    "        #print(code,\"sucess\")\n",
    "        sucess_count=sucess_count+1\n",
    "    else:\n",
    "        #print(code,\"failure\")\n",
    "        failure_count=failure_count+1\n",
    "print(\"file_name  Sucess  Failure \")\n",
    "print(name,sucess_count,failure_count)\n",
    "\n",
    "        \n",
    "\n",
    "    "
   ]
  },
  {
   "cell_type": "code",
   "execution_count": null,
   "metadata": {},
   "outputs": [],
   "source": []
  },
  {
   "cell_type": "code",
   "execution_count": 18,
   "metadata": {},
   "outputs": [
    {
     "name": "stdout",
     "output_type": "stream",
     "text": [
      "file_name  Sucess count Failure count\n"
     ]
    },
    {
     "name": "stderr",
     "output_type": "stream",
     "text": [
      "c:\\users\\suma\\appdata\\local\\programs\\python\\python35\\lib\\site-packages\\ipykernel_launcher.py:9: DeprecationWarning: The Windows bytes API has been deprecated, use Unicode filenames instead\n",
      "  if __name__ == '__main__':\n"
     ]
    },
    {
     "ename": "FileNotFoundError",
     "evalue": "[Errno 2] No such file or directory: 'access_log1'",
     "output_type": "error",
     "traceback": [
      "\u001b[1;31m---------------------------------------------------------------------------\u001b[0m",
      "\u001b[1;31mFileNotFoundError\u001b[0m                         Traceback (most recent call last)",
      "\u001b[1;32m<ipython-input-18-cfbf1a0309aa>\u001b[0m in \u001b[0;36m<module>\u001b[1;34m()\u001b[0m\n\u001b[0;32m     15\u001b[0m     \u001b[0mfailure_count\u001b[0m\u001b[1;33m=\u001b[0m\u001b[1;36m0\u001b[0m\u001b[1;33m\u001b[0m\u001b[0m\n\u001b[0;32m     16\u001b[0m \u001b[1;33m\u001b[0m\u001b[0m\n\u001b[1;32m---> 17\u001b[1;33m     \u001b[0mfh\u001b[0m\u001b[1;33m=\u001b[0m\u001b[0mopen\u001b[0m\u001b[1;33m(\u001b[0m\u001b[0mfilename\u001b[0m\u001b[1;33m,\u001b[0m\u001b[1;34m\"r\"\u001b[0m\u001b[1;33m)\u001b[0m\u001b[1;33m\u001b[0m\u001b[0m\n\u001b[0m\u001b[0;32m     18\u001b[0m     \u001b[1;32mfor\u001b[0m \u001b[0mi\u001b[0m \u001b[1;32min\u001b[0m \u001b[0mfh\u001b[0m\u001b[1;33m:\u001b[0m\u001b[1;33m\u001b[0m\u001b[0m\n\u001b[0;32m     19\u001b[0m         \u001b[0mdata\u001b[0m\u001b[1;33m=\u001b[0m\u001b[1;34m''\u001b[0m\u001b[1;33m.\u001b[0m\u001b[0mjoin\u001b[0m\u001b[1;33m(\u001b[0m\u001b[0mi\u001b[0m\u001b[1;33m)\u001b[0m\u001b[1;33m\u001b[0m\u001b[0m\n",
      "\u001b[1;31mFileNotFoundError\u001b[0m: [Errno 2] No such file or directory: 'access_log1'"
     ]
    }
   ],
   "source": [
    "import os\n",
    "\n",
    "path=\"logs/\"\n",
    "\n",
    "folder = os.fsencode(path)\n",
    "\n",
    "filenames = []\n",
    "print(\"file_name  Sucess count Failure count\")\n",
    "for file in os.listdir(folder):\n",
    "    \n",
    "    filename = os.fsdecode(file)\n",
    "   \n",
    "    name=os.path.basename(filename)\n",
    "    sucess_count=0\n",
    "    failure_count=0\n",
    "    \n",
    "    fh=open(filename,\"r\")\n",
    "    for i in fh:   \n",
    "        data=''.join(i)    \n",
    "        ex=data[data.index(\"HTTP\"):data.index('\\\" \\\"')+1]   \n",
    "        ex_2=ex[ex.index('\\\" ')+1:ex.index(' \\\"')+1]\n",
    "        code=ex_2[0:4]#substring\n",
    "\n",
    "        code=int(code)\n",
    "\n",
    "        if(code==200):\n",
    "            #print(code,\"sucess\")\n",
    "            sucess_count=sucess_count+1\n",
    "        else:\n",
    "            #print(code,\"failure\")\n",
    "            failure_count=failure_count+1\n",
    "    fh.close()\n",
    "    print(name,sucess_count,failure_count)\n",
    "       \n",
    "        \n",
    "    \n",
    "        "
   ]
  },
  {
   "cell_type": "code",
   "execution_count": null,
   "metadata": {},
   "outputs": [],
   "source": []
  },
  {
   "cell_type": "code",
   "execution_count": null,
   "metadata": {},
   "outputs": [],
   "source": []
  }
 ],
 "metadata": {
  "kernelspec": {
   "display_name": "Python 3",
   "language": "python",
   "name": "python3"
  },
  "language_info": {
   "codemirror_mode": {
    "name": "ipython",
    "version": 3
   },
   "file_extension": ".py",
   "mimetype": "text/x-python",
   "name": "python",
   "nbconvert_exporter": "python",
   "pygments_lexer": "ipython3",
   "version": "3.5.2"
  }
 },
 "nbformat": 4,
 "nbformat_minor": 2
}
