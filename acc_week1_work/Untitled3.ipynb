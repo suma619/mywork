{
 "cells": [
  {
   "cell_type": "code",
   "execution_count": 13,
   "metadata": {
    "scrolled": true
   },
   "outputs": [
    {
     "name": "stdout",
     "output_type": "stream",
     "text": [
      "file_name  Sucess count Failure count\n",
      "access_log 8 598\n",
      "access_log1 8 598\n",
      "access_log2 8 598\n"
     ]
    },
    {
     "name": "stderr",
     "output_type": "stream",
     "text": [
      "c:\\users\\suma\\appdata\\local\\programs\\python\\python35\\lib\\site-packages\\ipykernel_launcher.py:10: DeprecationWarning: The Windows bytes API has been deprecated, use Unicode filenames instead\n",
      "  # Remove the CWD from sys.path while we load stuff.\n"
     ]
    }
   ],
   "source": [
    "import os\n",
    "\n",
    "\n",
    "path=\"logs/\"\n",
    "\n",
    "folder = os.fsencode(path)\n",
    "\n",
    "filenames = []\n",
    "print(\"file_name  Sucess count Failure count\")\n",
    "for file in os.listdir(folder):\n",
    "    #print(file)\n",
    "    filename = os.fsdecode(file)\n",
    "    #print(filename)\n",
    "    name=os.path.basename(filename)\n",
    "    sucess_count=0\n",
    "    failure_count=0\n",
    "    \n",
    "    fh=open(path+\"/\"+filename,\"r\")\n",
    "    for i in fh:   \n",
    "        data=''.join(i)    \n",
    "        ex=data[data.index(\"HTTP\"):data.index('\\\" \\\"')+1]   \n",
    "        ex_2=ex[ex.index('\\\" ')+1:ex.index(' \\\"')+1]\n",
    "        code=ex_2[0:4]#substring\n",
    "\n",
    "        code=int(code)\n",
    "\n",
    "        if(code==200):\n",
    "            #print(code,\"sucess\")\n",
    "            sucess_count=sucess_count+1\n",
    "        else:\n",
    "            #print(code,\"failure\")\n",
    "            failure_count=failure_count+1\n",
    "    #fh.close()\n",
    "    print(name,sucess_count,failure_count)\n",
    "       \n",
    "    row=[name,sucess_count,failure_count]\n",
    "    with open('logs.csv', 'a') as csvFile:\n",
    "\n",
    "        writer = csv.writer(csvFile)\n",
    "        writer.writerow(row)"
   ]
  },
  {
   "cell_type": "code",
   "execution_count": 5,
   "metadata": {},
   "outputs": [],
   "source": [
    "import csv\n",
    "#col=[\"file name\",\"success\",\"failure\"]\n",
    "row=[name,sucess_count,failure_count]\n",
    "with open('people1.csv', 'a') as csvFile:\n",
    "\n",
    "    writer = csv.writer(csvFile)\n",
    "    writer.writerow(row)\n"
   ]
  },
  {
   "cell_type": "code",
   "execution_count": null,
   "metadata": {},
   "outputs": [],
   "source": []
  },
  {
   "cell_type": "code",
   "execution_count": null,
   "metadata": {},
   "outputs": [],
   "source": []
  }
 ],
 "metadata": {
  "kernelspec": {
   "display_name": "Python 3",
   "language": "python",
   "name": "python3"
  },
  "language_info": {
   "codemirror_mode": {
    "name": "ipython",
    "version": 3
   },
   "file_extension": ".py",
   "mimetype": "text/x-python",
   "name": "python",
   "nbconvert_exporter": "python",
   "pygments_lexer": "ipython3",
   "version": "3.5.2"
  }
 },
 "nbformat": 4,
 "nbformat_minor": 2
}
