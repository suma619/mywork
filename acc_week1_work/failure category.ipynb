{
 "cells": [
  {
   "cell_type": "code",
   "execution_count": 5,
   "metadata": {},
   "outputs": [
    {
     "name": "stdout",
     "output_type": "stream",
     "text": [
      "file_name  Sucess  Failure Forbidden NOt_Found Mvd_Perm Found Not_Modified\n",
      "access_log1   303   303     1         242       8        9     43\n"
     ]
    }
   ],
   "source": [
    "file=\"C:/Users/suma/Desktop/work/logs/access_log1\"\n",
    "path=\"C:/Users/suma/Desktop/work/\"\n",
    "import os\n",
    "name=os.path.basename(\"C:/Users/suma/Desktop/work/access_log1\")\n",
    "sucess_count=0\n",
    "failure_count=0\n",
    "forbidden_err=0\n",
    "not_found=0\n",
    "moved_permanently=0\n",
    "found=0\n",
    "not_modified=0\n",
    "fh=open(file,\"r\")\n",
    "for i in fh:\n",
    "    #analyze(i)\n",
    "    data=''.join(i)    \n",
    "    ex=data[data.index(\"HTTP\"):data.index('\\\" \\\"')+1]   \n",
    "    ex_2=ex[ex.index('\\\" ')+1:ex.index(' \\\"')+1]\n",
    "    code=ex_2[0:4]\n",
    " \n",
    "    code=int(code)\n",
    "    \n",
    "    if(code==200):\n",
    "        #print(code,\"sucess\")\n",
    "        sucess_count=sucess_count+1\n",
    "    else:\n",
    "        failure_count=failure_count+1\n",
    "        if (code==403):\n",
    "            forbidden_err=forbidden_err+1\n",
    "        elif (code==404):\n",
    "            not_found=not_found+1\n",
    "        elif (code==301):\n",
    "            moved_permanently=moved_permanently+1\n",
    "        elif (code==302):\n",
    "            found=found+1\n",
    "        else:\n",
    "            not_modified=not_modified+1\n",
    "            \n",
    "        \n",
    "        #print(code,\"failure\")\n",
    "    \n",
    "print(\"file_name  Sucess  Failure Forbidden NOt_Found Mvd_Perm Found Not_Modified\")\n",
    "print(name,\" \",sucess_count,\" \",failure_count,\"   \",forbidden_err,\"       \",not_found,\"     \",moved_permanently,\"      \",found,\"   \",not_modified)\n",
    "\n",
    "        \n",
    "\n",
    "    "
   ]
  },
  {
   "cell_type": "code",
   "execution_count": null,
   "metadata": {},
   "outputs": [],
   "source": []
  }
 ],
 "metadata": {
  "kernelspec": {
   "display_name": "Python 3",
   "language": "python",
   "name": "python3"
  },
  "language_info": {
   "codemirror_mode": {
    "name": "ipython",
    "version": 3
   },
   "file_extension": ".py",
   "mimetype": "text/x-python",
   "name": "python",
   "nbconvert_exporter": "python",
   "pygments_lexer": "ipython3",
   "version": "3.5.2"
  }
 },
 "nbformat": 4,
 "nbformat_minor": 2
}
