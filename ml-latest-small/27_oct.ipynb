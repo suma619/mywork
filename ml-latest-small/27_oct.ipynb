{
 "cells": [
  {
   "cell_type": "code",
   "execution_count": 3,
   "metadata": {},
   "outputs": [
    {
     "name": "stdout",
     "output_type": "stream",
     "text": [
      "[0, 0, 0, 0, 1]\n",
      "[False  True  True False  True]\n",
      "[0 1 1 0 1]\n",
      "3\n",
      "[False False  True False  True]\n",
      "[0 0 1 0 1]\n",
      "2\n",
      "[ True  True  True  True False]\n",
      "[1 1 1 1 0]\n",
      "4\n",
      "[False False False False False]\n",
      "[0 0 0 0 0]\n",
      "0\n",
      "[ True False  True False False]\n",
      "[1 0 1 0 0]\n",
      "2\n",
      "[3, 2, 4, 0, 2]\n",
      "[2]\n",
      "[2]\n",
      "Your enemy is 2\n",
      "Enemy  Number: 2: \n",
      "  user_id  Toy_Story  GoldenEye  FourRooms  GetShorty  Copycat\n",
      "2  user_3          1          1          1          1        1\n"
     ]
    }
   ],
   "source": [
    "from tkinter import *\n",
    "master = Tk()\n",
    "\n",
    "def var_states():\n",
    "    import pandas as pd\n",
    "    import numpy\n",
    "    def show_entry_fields():\n",
    "        print(\"Enemy  Number: %s: \" % (e1.get()))\n",
    "        usr_id_no=int(e1.get())\n",
    "        import pandas as pd\n",
    "        import numpy\n",
    "        column_names2 = ['user_id', 'Toy_Story', 'GoldenEye', 'FourRooms','GetShorty','Copycat'] \n",
    "        df1 = pd.read_csv(\"Book1.csv\", sep=',', names=column_names) \n",
    "        \n",
    "        print(df.iloc[usr_id_no:usr_id_no+1]) \n",
    "\n",
    "  \n",
    "# Print the dataframe \n",
    "    import pandas as pd \n",
    "    column_names = ['user_id', 'Toy_Story', 'GoldenEye', 'FourRooms','GetShorty','Copycat'] \n",
    "    df = pd.read_csv(\"Book1.csv\", sep=',', names=column_names) \n",
    "    \n",
    "    \n",
    "   #print(\"male: %d,\\nfemale: %d\" % (var1.get(), var2.get()))\n",
    "    if var1.get()!=1:\n",
    "        v1=0\n",
    "    else:\n",
    "        v1=1\n",
    "    if var2.get()!=1:\n",
    "        v2=0\n",
    "    else:\n",
    "        v2=1\n",
    "    if var3.get()!=1:\n",
    "        v3=0\n",
    "    else:\n",
    "        v3=1\n",
    "    if var4.get()!=1:\n",
    "        v4=0\n",
    "    else:\n",
    "        v4=1\n",
    "    if var5.get()!=1:\n",
    "        v5=0\n",
    "    else:\n",
    "        v5=1\n",
    "    k=[]\n",
    "    k.append(v1)\n",
    "    k.append(v2)\n",
    "    k.append(v3)\n",
    "    k.append(v4)\n",
    "    k.append(v5)\n",
    "\n",
    "\n",
    "    print(k)\n",
    "    \n",
    "    compare_list=[]\n",
    "# Iterate over each row \n",
    "    for index, rows in df.iterrows(): \n",
    "        # Create list for the current row \n",
    "        my_list =[ rows.Toy_Story, rows.GoldenEye,rows.FourRooms,rows.GetShorty,rows.Copycat]\n",
    "        #print(my_list)\n",
    "        import numpy as np\n",
    "        val=np.logical_xor(k,my_list )\n",
    "        print(val)\n",
    "        bool_val = numpy.multiply(val, 1) \n",
    "        print(bool_val)\n",
    "        ones=np.count_nonzero(bool_val)\n",
    "        print(ones)\n",
    "\n",
    "        compare_list.append(ones)\n",
    "    print(compare_list)\n",
    "    result = numpy.where(compare_list== numpy.amax(compare_list))\n",
    "    print(result[0])\n",
    "    as_1=result[0]\n",
    "    print(as_1)\n",
    "    for x in range(len(as_1)):\n",
    "        print(\"Your enemy is\",as_1[x])\n",
    "    #import random\n",
    "\n",
    "    #least_user_val= random.choice(as_1)\n",
    "    #print(least_user_val)\n",
    "    \n",
    "    #df.iloc[least_user_val]\n",
    "    #print(\"Your enemy is user\",least_user_val)\n",
    "    for x in range(len(as_1)):\n",
    "        s=8+x\n",
    "        lsum = Label(master, text = 'Your enemy is:',width=\"115\",font=(\"Helvetica\", 16))\n",
    "        lsum.grid(row=s, sticky=W, pady=4)\n",
    "        lsum[\"text\"] = \"Your enemy is user number : \" + str(as_1[x])\n",
    "        \n",
    "    Label(master, text=\"Enter the enenmy user_id from above options\",width=\"115\",font=(\"Helvetica\", 16)).grid(row=s+2)\n",
    "\n",
    "    e1 = Entry(master)\n",
    "\n",
    "    e1.grid(row=s+3)\n",
    "    Button(master, text='OK', command=show_entry_fields,width=\"200\",bg=\"green\").grid(row=s+4, sticky=W,pady=4)\n",
    "    \n",
    "    \n",
    "\n",
    "\n",
    "        \n",
    "\n",
    "Label(master, text=\"Select your movie:\",font=(\"Helvetica\", 16),width=\"115\").grid(row=0, sticky=W)\n",
    "\n",
    "var1 = IntVar()\n",
    "Checkbutton(master, text=\"Toy Story (1995)\", variable=var1,width=\"115\",font=(\"Helvetica\", 16)).grid(row=1, sticky=W)\n",
    "\n",
    "var2 = IntVar()\n",
    "Checkbutton(master, text=\"GoldenEye (1995)\", variable=var2,width=\"115\",font=(\"Helvetica\", 16)).grid(row=2, sticky=W)\n",
    "\n",
    "var3 = IntVar()\n",
    "Checkbutton(master, text=\"Four Rooms (1995)\", variable=var3,width=\"115\",font=(\"Helvetica\", 16)).grid(row=3, sticky=W)\n",
    "\n",
    "var4 = IntVar()\n",
    "Checkbutton(master, text=\"Get Shorty (1995)\", variable=var4,width=\"115\",font=(\"Helvetica\", 16)).grid(row=4, sticky=W)\n",
    "\n",
    "var5 = IntVar()\n",
    "Checkbutton(master, text=\"Copycat (1995)\", variable=var5,width=\"115\",font=(\"Helvetica\", 16)).grid(row=5, sticky=W)\n",
    "\n",
    "\n",
    "\n",
    "\n",
    "\n",
    "#Button(master, text='Quit', command=master.quit).grid(row=6, sticky=W, pady=4)\n",
    "Button(master, text='Show', command=var_states,width=\"200\",bg=\"green\").grid(row=7, sticky=W, pady=4)\n",
    "\n",
    "\n",
    "mainloop()"
   ]
  },
  {
   "cell_type": "code",
   "execution_count": null,
   "metadata": {},
   "outputs": [],
   "source": []
  },
  {
   "cell_type": "code",
   "execution_count": null,
   "metadata": {},
   "outputs": [],
   "source": []
  },
  {
   "cell_type": "code",
   "execution_count": null,
   "metadata": {},
   "outputs": [],
   "source": []
  },
  {
   "cell_type": "code",
   "execution_count": null,
   "metadata": {},
   "outputs": [],
   "source": []
  },
  {
   "cell_type": "code",
   "execution_count": 2,
   "metadata": {
    "scrolled": true
   },
   "outputs": [
    {
     "name": "stdout",
     "output_type": "stream",
     "text": [
      "[False False False False False]\n",
      "[0 0 0 0 0]\n",
      "0\n",
      "[False  True False False False]\n",
      "[0 1 0 0 0]\n",
      "1\n",
      "[ True False False  True  True]\n",
      "[1 0 0 1 1]\n",
      "3\n",
      "[False  True  True False  True]\n",
      "[0 1 1 0 1]\n",
      "3\n",
      "[ True  True False False  True]\n",
      "[1 1 0 0 1]\n",
      "3\n",
      "[0, 1, 3, 3, 3]\n",
      "[2 3 4]\n",
      "[2 3 4]\n"
     ]
    }
   ],
   "source": [
    "import pandas as pd\n",
    "import numpy\n",
    "  \n",
    "# Create the dataframe \n",
    "#df = pd.DataFrame({'Date':['10/2/2011', '11/2/2011', '12/2/2011', '13/2/11'], \n",
    "                    #'Event':['Music', 'Poetry', 'Theatre', 'Comedy'], \n",
    "                    #'Cost':[10000, 5000, 15000, 2000]}) \n",
    "  \n",
    "# Print the dataframe \n",
    "import pandas as pd \n",
    "column_names = ['user_id', 'Toy_Story', 'GoldenEye', 'FourRooms','GetShorty','Copycat'] \n",
    "df = pd.read_csv(\"Book1.csv\", sep=',', names=column_names) \n",
    "#print(df) \n",
    "\n",
    "k=[0, 1, 1, 0, 0]\n",
    "compare_list=[]\n",
    "# Iterate over each row \n",
    "for index, rows in df.iterrows(): \n",
    "    # Create list for the current row \n",
    "    my_list =[ rows.Toy_Story, rows.GoldenEye,rows.FourRooms,rows.GetShorty,rows.Copycat]\n",
    "    #print(my_list)\n",
    "    import numpy as np\n",
    "    val=np.logical_xor(k,my_list )\n",
    "    print(val)\n",
    "    bool_val = numpy.multiply(val, 1) \n",
    "    print(bool_val)\n",
    "    ones=np.count_nonzero(bool_val)\n",
    "    print(ones)\n",
    "    \n",
    "    compare_list.append(ones)\n",
    "   \n",
    "  \n",
    "# Print the list \n",
    "print(compare_list)\n",
    "result = numpy.where(compare_list== numpy.amax(compare_list))\n",
    "print(result[0])\n",
    "as_1=result[0]\n",
    "print(as_1)"
   ]
  },
  {
   "cell_type": "code",
   "execution_count": 126,
   "metadata": {},
   "outputs": [
    {
     "name": "stdout",
     "output_type": "stream",
     "text": [
      "3\n"
     ]
    }
   ],
   "source": [
    "import random\n",
    "\n",
    "least_user_val= random.choice(as_1)\n",
    "print(least_user_val)"
   ]
  },
  {
   "cell_type": "code",
   "execution_count": 127,
   "metadata": {},
   "outputs": [
    {
     "data": {
      "text/plain": [
       "user_id      user_4\n",
       "Toy_Story         0\n",
       "GoldenEye         0\n",
       "FourRooms         0\n",
       "GetShorty         0\n",
       "Copycat           1\n",
       "Name: 3, dtype: object"
      ]
     },
     "execution_count": 127,
     "metadata": {},
     "output_type": "execute_result"
    }
   ],
   "source": [
    "df.iloc[least_user_val]"
   ]
  },
  {
   "cell_type": "code",
   "execution_count": 39,
   "metadata": {},
   "outputs": [
    {
     "name": "stdout",
     "output_type": "stream",
     "text": [
      "2\n",
      "3\n",
      "4\n"
     ]
    }
   ],
   "source": [
    "for x in range(len(as_1)): \n",
    "    print (\"\"as_1[x]) "
   ]
  },
  {
   "cell_type": "code",
   "execution_count": 16,
   "metadata": {},
   "outputs": [],
   "source": [
    "import pandas as pd\n",
    "import numpy\n",
    "column_names = ['user_id', 'Toy_Story', 'GoldenEye', 'FourRooms','GetShorty','Copycat'] \n",
    "df3 = pd.read_csv(\"Book1.csv\", sep=',', names=column_names) "
   ]
  },
  {
   "cell_type": "code",
   "execution_count": 23,
   "metadata": {},
   "outputs": [
    {
     "data": {
      "text/html": [
       "<div>\n",
       "<style scoped>\n",
       "    .dataframe tbody tr th:only-of-type {\n",
       "        vertical-align: middle;\n",
       "    }\n",
       "\n",
       "    .dataframe tbody tr th {\n",
       "        vertical-align: top;\n",
       "    }\n",
       "\n",
       "    .dataframe thead th {\n",
       "        text-align: right;\n",
       "    }\n",
       "</style>\n",
       "<table border=\"1\" class=\"dataframe\">\n",
       "  <thead>\n",
       "    <tr style=\"text-align: right;\">\n",
       "      <th></th>\n",
       "      <th>user_id</th>\n",
       "      <th>Toy_Story</th>\n",
       "      <th>GoldenEye</th>\n",
       "      <th>FourRooms</th>\n",
       "      <th>GetShorty</th>\n",
       "      <th>Copycat</th>\n",
       "    </tr>\n",
       "  </thead>\n",
       "  <tbody>\n",
       "    <tr>\n",
       "      <th>4</th>\n",
       "      <td>user_5</td>\n",
       "      <td>1</td>\n",
       "      <td>0</td>\n",
       "      <td>1</td>\n",
       "      <td>0</td>\n",
       "      <td>1</td>\n",
       "    </tr>\n",
       "  </tbody>\n",
       "</table>\n",
       "</div>"
      ],
      "text/plain": [
       "  user_id  Toy_Story  GoldenEye  FourRooms  GetShorty  Copycat\n",
       "4  user_5          1          0          1          0        1"
      ]
     },
     "execution_count": 23,
     "metadata": {},
     "output_type": "execute_result"
    }
   ],
   "source": [
    "df3.iloc[4:5] "
   ]
  },
  {
   "cell_type": "code",
   "execution_count": 24,
   "metadata": {},
   "outputs": [],
   "source": [
    "k=[]\n",
    "k=df3.iloc[4:5]"
   ]
  },
  {
   "cell_type": "code",
   "execution_count": 25,
   "metadata": {},
   "outputs": [
    {
     "name": "stdout",
     "output_type": "stream",
     "text": [
      "  user_id  Toy_Story  GoldenEye  FourRooms  GetShorty  Copycat\n",
      "4  user_5          1          0          1          0        1\n"
     ]
    }
   ],
   "source": [
    "print (k)"
   ]
  },
  {
   "cell_type": "code",
   "execution_count": 26,
   "metadata": {},
   "outputs": [],
   "source": [
    "for index, rows in k.iterrows(): \n",
    "    # Create list for the current row \n",
    "    my_list4 =[ rows.Toy_Story, rows.GoldenEye,rows.FourRooms,rows.GetShorty,rows.Copycat]\n"
   ]
  },
  {
   "cell_type": "code",
   "execution_count": 27,
   "metadata": {},
   "outputs": [
    {
     "name": "stdout",
     "output_type": "stream",
     "text": [
      "[1, 0, 1, 0, 1]\n"
     ]
    }
   ],
   "source": [
    "print(my_list4)"
   ]
  },
  {
   "cell_type": "code",
   "execution_count": 88,
   "metadata": {},
   "outputs": [],
   "source": []
  },
  {
   "cell_type": "code",
   "execution_count": 89,
   "metadata": {},
   "outputs": [
    {
     "name": "stdout",
     "output_type": "stream",
     "text": [
      "[False  True False  True False]\n"
     ]
    }
   ],
   "source": [
    "print(val45)"
   ]
  },
  {
   "cell_type": "code",
   "execution_count": null,
   "metadata": {},
   "outputs": [],
   "source": []
  },
  {
   "cell_type": "code",
   "execution_count": 94,
   "metadata": {},
   "outputs": [],
   "source": [
    "bool_val45 = numpy.multiply(val45, 1) \n"
   ]
  },
  {
   "cell_type": "code",
   "execution_count": 95,
   "metadata": {},
   "outputs": [
    {
     "name": "stdout",
     "output_type": "stream",
     "text": [
      "[0 1 0 1 0]\n"
     ]
    }
   ],
   "source": [
    "print(bool_val45)"
   ]
  },
  {
   "cell_type": "code",
   "execution_count": 98,
   "metadata": {},
   "outputs": [
    {
     "name": "stdout",
     "output_type": "stream",
     "text": [
      "[0 1 0 1 0]\n"
     ]
    }
   ],
   "source": []
  },
  {
   "cell_type": "code",
   "execution_count": 99,
   "metadata": {},
   "outputs": [],
   "source": [
    "list1 = [i^1 for i in bool_val45] \n"
   ]
  },
  {
   "cell_type": "code",
   "execution_count": 100,
   "metadata": {},
   "outputs": [
    {
     "name": "stdout",
     "output_type": "stream",
     "text": [
      "[1, 0, 1, 0, 1]\n"
     ]
    }
   ],
   "source": [
    "print(list1)"
   ]
  },
  {
   "cell_type": "code",
   "execution_count": 6,
   "metadata": {},
   "outputs": [],
   "source": [
    "def get_my_friend():\n",
    "    k=e1.get()\n",
    "    print(k)"
   ]
  },
  {
   "cell_type": "code",
   "execution_count": 7,
   "metadata": {},
   "outputs": [
    {
     "ename": "NameError",
     "evalue": "name 'e1' is not defined",
     "output_type": "error",
     "traceback": [
      "\u001b[1;31m---------------------------------------------------------------------------\u001b[0m",
      "\u001b[1;31mNameError\u001b[0m                                 Traceback (most recent call last)",
      "\u001b[1;32m<ipython-input-7-b3a52a36236c>\u001b[0m in \u001b[0;36m<module>\u001b[1;34m()\u001b[0m\n\u001b[1;32m----> 1\u001b[1;33m \u001b[0mget_my_friend\u001b[0m\u001b[1;33m(\u001b[0m\u001b[1;33m)\u001b[0m\u001b[1;33m\u001b[0m\u001b[0m\n\u001b[0m",
      "\u001b[1;32m<ipython-input-6-edae9c685ab2>\u001b[0m in \u001b[0;36mget_my_friend\u001b[1;34m()\u001b[0m\n\u001b[0;32m      1\u001b[0m \u001b[1;32mdef\u001b[0m \u001b[0mget_my_friend\u001b[0m\u001b[1;33m(\u001b[0m\u001b[1;33m)\u001b[0m\u001b[1;33m:\u001b[0m\u001b[1;33m\u001b[0m\u001b[0m\n\u001b[1;32m----> 2\u001b[1;33m     \u001b[0mk\u001b[0m\u001b[1;33m=\u001b[0m\u001b[0me1\u001b[0m\u001b[1;33m.\u001b[0m\u001b[0mget\u001b[0m\u001b[1;33m(\u001b[0m\u001b[1;33m)\u001b[0m\u001b[1;33m\u001b[0m\u001b[0m\n\u001b[0m\u001b[0;32m      3\u001b[0m     \u001b[0mprint\u001b[0m\u001b[1;33m(\u001b[0m\u001b[0mk\u001b[0m\u001b[1;33m)\u001b[0m\u001b[1;33m\u001b[0m\u001b[0m\n",
      "\u001b[1;31mNameError\u001b[0m: name 'e1' is not defined"
     ]
    }
   ],
   "source": [
    "get_my_friend()"
   ]
  },
  {
   "cell_type": "code",
   "execution_count": null,
   "metadata": {},
   "outputs": [],
   "source": []
  }
 ],
 "metadata": {
  "kernelspec": {
   "display_name": "Python 3",
   "language": "python",
   "name": "python3"
  },
  "language_info": {
   "codemirror_mode": {
    "name": "ipython",
    "version": 3
   },
   "file_extension": ".py",
   "mimetype": "text/x-python",
   "name": "python",
   "nbconvert_exporter": "python",
   "pygments_lexer": "ipython3",
   "version": "3.5.2"
  }
 },
 "nbformat": 4,
 "nbformat_minor": 2
}
